{
 "cells": [
  {
   "cell_type": "code",
   "execution_count": 12,
   "metadata": {},
   "outputs": [],
   "source": [
    "import requests\n",
    "from bs4 import BeautifulSoup\n",
    "import os\n",
    "import json as json"
   ]
  },
  {
   "cell_type": "code",
   "execution_count": 13,
   "metadata": {},
   "outputs": [],
   "source": [
    "# URLs de las páginas a scrapear\n",
    "urls = [\n",
    "    \"https://www.pkparaiso.com/espada_escudo/sprites_pokemon.php?cid=0&order=dex#sprites\",\n",
    "    \"https://www.pkparaiso.com/espada_escudo/sprites_pokemon.php?cid=1&order=dex#sprites\",\n",
    "    \"https://www.pkparaiso.com/espada_escudo/sprites_pokemon.php?cid=2&order=dex#sprites\",\n",
    "    \"https://www.pkparaiso.com/espada_escudo/sprites_pokemon.php?cid=3&order=dex#sprites\",\n",
    "    \"https://www.pkparaiso.com/espada_escudo/sprites_pokemon.php?cid=4&order=dex#sprites\",\n",
    "    \"https://www.pkparaiso.com/espada_escudo/sprites_pokemon.php?cid=5&order=dex#sprites\",\n",
    "    \"https://www.pkparaiso.com/espada_escudo/sprites_pokemon.php?cid=6&order=dex#sprites\",\n",
    "    \"https://www.pkparaiso.com/espada_escudo/sprites_pokemon.php?cid=7&order=dex#sprites\",\n",
    "    \"https://www.pkparaiso.com/espada_escudo/sprites_pokemon.php?cid=8&order=dex#sprites\",\n",
    "    \"https://www.pkparaiso.com/espada_escudo/sprites_pokemon.php?cid=9&order=dex#sprites\",\n",
    "    \"https://www.pkparaiso.com/espada_escudo/sprites_pokemon.php?cid=10&order=dex#sprites\",\n",
    "    \"https://www.pkparaiso.com/espada_escudo/sprites_pokemon.php?cid=11&order=dex#sprites\",\n",
    "    \"https://www.pkparaiso.com/espada_escudo/sprites_pokemon.php?cid=12&order=dex#sprites\",\n",
    "    \"https://www.pkparaiso.com/espada_escudo/sprites_pokemon.php?cid=13&order=dex#sprites\",\n",
    "    \"https://www.pkparaiso.com/espada_escudo/sprites_pokemon.php?cid=141&order=dex#sprites\",\n",
    "    \"https://www.pkparaiso.com/espada_escudo/sprites_pokemon.php?cid=15&order=dex#sprites\",\n",
    "    \"https://www.pkparaiso.com/espada_escudo/sprites_pokemon.php?cid=16&order=dex#sprites\",\n",
    "    \"https://www.pkparaiso.com/espada_escudo/sprites_pokemon.php?cid=17&order=dex#sprites\",\n",
    "    \"https://www.pkparaiso.com/espada_escudo/sprites_pokemon.php?cid=18&order=dex#sprites\",\n",
    "    \"https://www.pkparaiso.com/espada_escudo/sprites_pokemon.php?cid=19&order=dex#sprites\",\n",
    "    \"https://www.pkparaiso.com/espada_escudo/sprites_pokemon.php?cid=20&order=dex#sprites\",\n",
    "    \"https://www.pkparaiso.com/espada_escudo/sprites_pokemon.php?cid=21&order=dex#sprites\",\n",
    "    \"https://www.pkparaiso.com/espada_escudo/sprites_pokemon.php?cid=22&order=dex#sprites\",\n",
    "    \"https://www.pkparaiso.com/espada_escudo/sprites_pokemon.php?cid=23&order=dex#sprites\",\n",
    "    \"https://www.pkparaiso.com/espada_escudo/sprites_pokemon.php?cid=241&order=dex#sprites\",\n",
    "    \"https://www.pkparaiso.com/espada_escudo/sprites_pokemon.php?cid=25&order=dex#sprites\",\n",
    "    \"https://www.pkparaiso.com/espada_escudo/sprites_pokemon.php?cid=26&order=dex#sprites\",\n",
    "    \"https://www.pkparaiso.com/espada_escudo/sprites_pokemon.php?cid=27&order=dex#sprites\",\n",
    "    \"https://www.pkparaiso.com/espada_escudo/sprites_pokemon.php?cid=28&order=dex#sprites\"\n",
    "]\n",
    "\n",
    "# Diccionario para almacenar los enlaces\n",
    "enlaces_pokemon = {}"
   ]
  },
  {
   "cell_type": "code",
   "execution_count": 14,
   "metadata": {},
   "outputs": [],
   "source": [
    "# Diccionario para almacenar los enlaces\n",
    "enlaces_pokemon = {}\n",
    "\n",
    "# Itera sobre cada URL para scrapear\n",
    "for url in urls:\n",
    "    # Realiza la solicitud HTTP a la página\n",
    "    response = requests.get(url)\n",
    "    response.raise_for_status()  # Asegúrate de que la solicitud fue exitosa\n",
    "\n",
    "    # Crea el objeto BeautifulSoup\n",
    "    soup = BeautifulSoup(response.text, 'html.parser')\n",
    "\n",
    "    # Encuentra el div con id=\"sprites\"\n",
    "    sprites_div = soup.find('div', id='sprites')\n",
    "\n",
    "    # Busca todos los elementos <a> dentro del div que coincidan con el patrón\n",
    "    if sprites_div:\n",
    "        for a_tag in sprites_div.find_all('a', href=True):\n",
    "            href = a_tag['href']\n",
    "            if \"/imagenes/espada_escudo/sprites/animados-gigante/\" in href:\n",
    "                # Corrige el enlace para obtener el formato deseado\n",
    "                cleaned_href = href.split('#')[-1]\n",
    "                # Extrae el nombre del pokémon del enlace\n",
    "                nombre_pokemon = cleaned_href.split('/')[-1].split('.')[0]\n",
    "                # Construye el enlace completo\n",
    "                full_url = \"https://www.pkparaiso.com\" + cleaned_href\n",
    "                # Agrega al diccionario\n",
    "                enlaces_pokemon[nombre_pokemon] = full_url\n"
   ]
  },
  {
   "cell_type": "code",
   "execution_count": 15,
   "metadata": {},
   "outputs": [
    {
     "name": "stdout",
     "output_type": "stream",
     "text": [
      "Enlaces guardados en sprites_pokemon.json.\n"
     ]
    }
   ],
   "source": [
    "# Guarda el diccionario en un archivo JSON\n",
    "output_file = \"sprites_pokemon.json\"\n",
    "with open(output_file, 'w', encoding='utf-8') as json_file:\n",
    "    json.dump({\"pokemon\": enlaces_pokemon}, json_file, ensure_ascii=False, indent=4)\n",
    "\n",
    "print(f\"Enlaces guardados en {output_file}.\")"
   ]
  }
 ],
 "metadata": {
  "kernelspec": {
   "display_name": "Python 3",
   "language": "python",
   "name": "python3"
  },
  "language_info": {
   "codemirror_mode": {
    "name": "ipython",
    "version": 3
   },
   "file_extension": ".py",
   "mimetype": "text/x-python",
   "name": "python",
   "nbconvert_exporter": "python",
   "pygments_lexer": "ipython3",
   "version": "3.12.6"
  }
 },
 "nbformat": 4,
 "nbformat_minor": 2
}
