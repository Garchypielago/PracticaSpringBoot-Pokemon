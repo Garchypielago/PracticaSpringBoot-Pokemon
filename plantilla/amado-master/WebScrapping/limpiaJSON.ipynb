{
 "cells": [
  {
   "cell_type": "code",
   "execution_count": 4,
   "metadata": {},
   "outputs": [],
   "source": [
    "import json\n",
    "\n",
    "def remove_keys_with_hyphen(data):\n",
    "    if isinstance(data, dict):\n",
    "        return {key.capitalize(): remove_keys_with_hyphen(value) for key, value in data.items() if '-' not in key}\n",
    "    elif isinstance(data, list):\n",
    "        return [remove_keys_with_hyphen(item) for item in data]\n",
    "    else:\n",
    "        return data\n",
    "\n",
    "def process_json(input_filename, output_filename):\n",
    "    with open(input_filename, 'r') as infile:\n",
    "        data = json.load(infile)\n",
    "    \n",
    "    filtered_data = remove_keys_with_hyphen(data)\n",
    "    \n",
    "    with open(output_filename, 'w') as outfile:\n",
    "        json.dump(filtered_data, outfile, indent=4)\n",
    "\n",
    "\n",
    "# Uso del script\n",
    "input_filename = 'sprites_pokemon.json'  # Nombre del archivo JSON original\n",
    "output_filename = 'sprites_pokemon_limpios.json'  # Nombre del archivo JSON resultante\n",
    "\n",
    "process_json(input_filename, output_filename)\n"
   ]
  }
 ],
 "metadata": {
  "kernelspec": {
   "display_name": ".venv",
   "language": "python",
   "name": "python3"
  },
  "language_info": {
   "codemirror_mode": {
    "name": "ipython",
    "version": 3
   },
   "file_extension": ".py",
   "mimetype": "text/x-python",
   "name": "python",
   "nbconvert_exporter": "python",
   "pygments_lexer": "ipython3",
   "version": "3.13.1"
  }
 },
 "nbformat": 4,
 "nbformat_minor": 2
}
