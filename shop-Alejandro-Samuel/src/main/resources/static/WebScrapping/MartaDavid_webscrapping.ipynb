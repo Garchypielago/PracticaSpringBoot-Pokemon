{
 "cells": [
  {
   "cell_type": "code",
   "execution_count": 1,
   "metadata": {},
   "outputs": [],
   "source": [
    "import requests\n",
    "from bs4 import BeautifulSoup\n",
    "import json\n"
   ]
  },
  {
   "cell_type": "code",
   "execution_count": 2,
   "metadata": {},
   "outputs": [],
   "source": [
    "\n",
    "# Lista de URLs para las páginas de galería\n",
    "base_url = \"https://www.cardmarket.com\"\n",
    "pages = [f\"{base_url}/es/Magic/Products/Singles?mode=gallery&site={i}\" for i in range(1, 16)]\n",
    "\n"
   ]
  },
  {
   "cell_type": "code",
   "execution_count": 3,
   "metadata": {},
   "outputs": [],
   "source": [
    "# Función para obtener los enlaces de las cartas\n",
    "def get_card_links(page_url):\n",
    "    response = requests.get(page_url)\n",
    "    if response.status_code != 200:\n",
    "        print(f\"Error al acceder a la página: {page_url}\")\n",
    "        return []\n",
    "\n",
    "    soup = BeautifulSoup(response.content, \"html.parser\")\n",
    "\n",
    "    # Seleccionar todos los <a> dentro de la estructura que describes\n",
    "    card_links = soup.select(\"div.d-flex.mb-4.col-12.col-sm-6.col-md-4.col-lg-3 a\")\n",
    "\n",
    "    # Extraer los href de las cartas y añadir el dominio base\n",
    "    return [base_url + link['href'] for link in card_links]\n"
   ]
  },
  {
   "cell_type": "code",
   "execution_count": 4,
   "metadata": {},
   "outputs": [
    {
     "name": "stdout",
     "output_type": "stream",
     "text": [
      "Extrayendo enlaces de: https://www.cardmarket.com/es/Magic/Products/Singles?mode=gallery&site=1\n",
      "Error al acceder a la página: https://www.cardmarket.com/es/Magic/Products/Singles?mode=gallery&site=1\n",
      "Extrayendo enlaces de: https://www.cardmarket.com/es/Magic/Products/Singles?mode=gallery&site=2\n",
      "Error al acceder a la página: https://www.cardmarket.com/es/Magic/Products/Singles?mode=gallery&site=2\n",
      "Extrayendo enlaces de: https://www.cardmarket.com/es/Magic/Products/Singles?mode=gallery&site=3\n",
      "Error al acceder a la página: https://www.cardmarket.com/es/Magic/Products/Singles?mode=gallery&site=3\n",
      "Extrayendo enlaces de: https://www.cardmarket.com/es/Magic/Products/Singles?mode=gallery&site=4\n",
      "Error al acceder a la página: https://www.cardmarket.com/es/Magic/Products/Singles?mode=gallery&site=4\n",
      "Extrayendo enlaces de: https://www.cardmarket.com/es/Magic/Products/Singles?mode=gallery&site=5\n",
      "Error al acceder a la página: https://www.cardmarket.com/es/Magic/Products/Singles?mode=gallery&site=5\n",
      "Extrayendo enlaces de: https://www.cardmarket.com/es/Magic/Products/Singles?mode=gallery&site=6\n",
      "Error al acceder a la página: https://www.cardmarket.com/es/Magic/Products/Singles?mode=gallery&site=6\n",
      "Extrayendo enlaces de: https://www.cardmarket.com/es/Magic/Products/Singles?mode=gallery&site=7\n",
      "Error al acceder a la página: https://www.cardmarket.com/es/Magic/Products/Singles?mode=gallery&site=7\n",
      "Extrayendo enlaces de: https://www.cardmarket.com/es/Magic/Products/Singles?mode=gallery&site=8\n",
      "Error al acceder a la página: https://www.cardmarket.com/es/Magic/Products/Singles?mode=gallery&site=8\n",
      "Extrayendo enlaces de: https://www.cardmarket.com/es/Magic/Products/Singles?mode=gallery&site=9\n",
      "Error al acceder a la página: https://www.cardmarket.com/es/Magic/Products/Singles?mode=gallery&site=9\n",
      "Extrayendo enlaces de: https://www.cardmarket.com/es/Magic/Products/Singles?mode=gallery&site=10\n",
      "Error al acceder a la página: https://www.cardmarket.com/es/Magic/Products/Singles?mode=gallery&site=10\n",
      "Extrayendo enlaces de: https://www.cardmarket.com/es/Magic/Products/Singles?mode=gallery&site=11\n",
      "Error al acceder a la página: https://www.cardmarket.com/es/Magic/Products/Singles?mode=gallery&site=11\n",
      "Extrayendo enlaces de: https://www.cardmarket.com/es/Magic/Products/Singles?mode=gallery&site=12\n",
      "Error al acceder a la página: https://www.cardmarket.com/es/Magic/Products/Singles?mode=gallery&site=12\n",
      "Extrayendo enlaces de: https://www.cardmarket.com/es/Magic/Products/Singles?mode=gallery&site=13\n",
      "Error al acceder a la página: https://www.cardmarket.com/es/Magic/Products/Singles?mode=gallery&site=13\n",
      "Extrayendo enlaces de: https://www.cardmarket.com/es/Magic/Products/Singles?mode=gallery&site=14\n",
      "Error al acceder a la página: https://www.cardmarket.com/es/Magic/Products/Singles?mode=gallery&site=14\n",
      "Extrayendo enlaces de: https://www.cardmarket.com/es/Magic/Products/Singles?mode=gallery&site=15\n",
      "Error al acceder a la página: https://www.cardmarket.com/es/Magic/Products/Singles?mode=gallery&site=15\n"
     ]
    }
   ],
   "source": [
    "\n",
    "# Diccionario para almacenar todos los enlaces\n",
    "cards_data = {\"cards\": []}\n",
    "\n",
    "# Iterar sobre cada página y obtener los enlaces\n",
    "for page in pages:\n",
    "    print(f\"Extrayendo enlaces de: {page}\")\n",
    "    card_links = get_card_links(page)\n",
    "    cards_data[\"cards\"].extend(card_links)\n",
    "\n",
    "# Guardar los enlaces en un archivo JSON\n",
    "output_file = \"card_links.json\"\n",
    "with open(output_file, \"w\", encoding=\"utf-8\") as f:\n",
    "    json.dump(cards_data, f, ensure_ascii=False, indent=4)\n"
   ]
  },
  {
   "cell_type": "code",
   "execution_count": 5,
   "metadata": {},
   "outputs": [
    {
     "name": "stdout",
     "output_type": "stream",
     "text": [
      "Se encontraron 0 enlaces y se guardaron en card_links.json\n"
     ]
    }
   ],
   "source": [
    "print(f\"Se encontraron {len(cards_data['cards'])} enlaces y se guardaron en {output_file}\")"
   ]
  },
  {
   "cell_type": "code",
   "execution_count": null,
   "metadata": {},
   "outputs": [
    {
     "ename": "SessionNotCreatedException",
     "evalue": "Message: session not created: This version of ChromeDriver only supports Chrome version 126\nCurrent browser version is 131.0.6778.86 with binary path C:\\Program Files\\Google\\Chrome\\Application\\chrome.exe\nStacktrace:\n\tGetHandleVerifier [0x00007FF76306EEA2+31554]\n\t(No symbol) [0x00007FF762FE7ED9]\n\t(No symbol) [0x00007FF762EA872A]\n\t(No symbol) [0x00007FF762EE6ED2]\n\t(No symbol) [0x00007FF762EE6008]\n\t(No symbol) [0x00007FF762EDFCC8]\n\t(No symbol) [0x00007FF762EDBB3B]\n\t(No symbol) [0x00007FF762F28794]\n\t(No symbol) [0x00007FF762F27DF0]\n\t(No symbol) [0x00007FF762F1CDD3]\n\t(No symbol) [0x00007FF762EEA33B]\n\t(No symbol) [0x00007FF762EEAED1]\n\tGetHandleVerifier [0x00007FF763378B1D+3217341]\n\tGetHandleVerifier [0x00007FF7633C5AE3+3532675]\n\tGetHandleVerifier [0x00007FF7633BB0E0+3489152]\n\tGetHandleVerifier [0x00007FF76311E776+750614]\n\t(No symbol) [0x00007FF762FF375F]\n\t(No symbol) [0x00007FF762FEEB14]\n\t(No symbol) [0x00007FF762FEECA2]\n\t(No symbol) [0x00007FF762FDE16F]\n\tBaseThreadInitThunk [0x00007FFF97567374+20]\n\tRtlUserThreadStart [0x00007FFF9949CC91+33]\n",
     "output_type": "error",
     "traceback": [
      "\u001b[1;31m---------------------------------------------------------------------------\u001b[0m",
      "\u001b[1;31mSessionNotCreatedException\u001b[0m                Traceback (most recent call last)",
      "Cell \u001b[1;32mIn[10], line 18\u001b[0m\n\u001b[0;32m     15\u001b[0m options\u001b[38;5;241m.\u001b[39madd_argument(\u001b[38;5;124m\"\u001b[39m\u001b[38;5;124m--headless\u001b[39m\u001b[38;5;124m\"\u001b[39m)  \u001b[38;5;66;03m# Opcional: Ejecutar sin interfaz gráfica\u001b[39;00m\n\u001b[0;32m     17\u001b[0m \u001b[38;5;66;03m# Crear la instancia del navegador\u001b[39;00m\n\u001b[1;32m---> 18\u001b[0m driver \u001b[38;5;241m=\u001b[39m \u001b[43mwebdriver\u001b[49m\u001b[38;5;241;43m.\u001b[39;49m\u001b[43mChrome\u001b[49m\u001b[43m(\u001b[49m\u001b[43mservice\u001b[49m\u001b[38;5;241;43m=\u001b[39;49m\u001b[43mservice\u001b[49m\u001b[43m,\u001b[49m\u001b[43m \u001b[49m\u001b[43moptions\u001b[49m\u001b[38;5;241;43m=\u001b[39;49m\u001b[43moptions\u001b[49m\u001b[43m)\u001b[49m\n\u001b[0;32m     20\u001b[0m \u001b[38;5;66;03m# URL base\u001b[39;00m\n\u001b[0;32m     21\u001b[0m base_url \u001b[38;5;241m=\u001b[39m \u001b[38;5;124m\"\u001b[39m\u001b[38;5;124mhttps://www.cardmarket.com/es/Magic/Products/Singles?mode=gallery&site=\u001b[39m\u001b[38;5;132;01m{}\u001b[39;00m\u001b[38;5;124m\"\u001b[39m\n",
      "File \u001b[1;32m~\\AppData\\Roaming\\Python\\Python312\\site-packages\\selenium\\webdriver\\chrome\\webdriver.py:45\u001b[0m, in \u001b[0;36mWebDriver.__init__\u001b[1;34m(self, options, service, keep_alive)\u001b[0m\n\u001b[0;32m     42\u001b[0m service \u001b[38;5;241m=\u001b[39m service \u001b[38;5;28;01mif\u001b[39;00m service \u001b[38;5;28;01melse\u001b[39;00m Service()\n\u001b[0;32m     43\u001b[0m options \u001b[38;5;241m=\u001b[39m options \u001b[38;5;28;01mif\u001b[39;00m options \u001b[38;5;28;01melse\u001b[39;00m Options()\n\u001b[1;32m---> 45\u001b[0m \u001b[38;5;28;43msuper\u001b[39;49m\u001b[43m(\u001b[49m\u001b[43m)\u001b[49m\u001b[38;5;241;43m.\u001b[39;49m\u001b[38;5;21;43m__init__\u001b[39;49m\u001b[43m(\u001b[49m\n\u001b[0;32m     46\u001b[0m \u001b[43m    \u001b[49m\u001b[43mbrowser_name\u001b[49m\u001b[38;5;241;43m=\u001b[39;49m\u001b[43mDesiredCapabilities\u001b[49m\u001b[38;5;241;43m.\u001b[39;49m\u001b[43mCHROME\u001b[49m\u001b[43m[\u001b[49m\u001b[38;5;124;43m\"\u001b[39;49m\u001b[38;5;124;43mbrowserName\u001b[39;49m\u001b[38;5;124;43m\"\u001b[39;49m\u001b[43m]\u001b[49m\u001b[43m,\u001b[49m\n\u001b[0;32m     47\u001b[0m \u001b[43m    \u001b[49m\u001b[43mvendor_prefix\u001b[49m\u001b[38;5;241;43m=\u001b[39;49m\u001b[38;5;124;43m\"\u001b[39;49m\u001b[38;5;124;43mgoog\u001b[39;49m\u001b[38;5;124;43m\"\u001b[39;49m\u001b[43m,\u001b[49m\n\u001b[0;32m     48\u001b[0m \u001b[43m    \u001b[49m\u001b[43moptions\u001b[49m\u001b[38;5;241;43m=\u001b[39;49m\u001b[43moptions\u001b[49m\u001b[43m,\u001b[49m\n\u001b[0;32m     49\u001b[0m \u001b[43m    \u001b[49m\u001b[43mservice\u001b[49m\u001b[38;5;241;43m=\u001b[39;49m\u001b[43mservice\u001b[49m\u001b[43m,\u001b[49m\n\u001b[0;32m     50\u001b[0m \u001b[43m    \u001b[49m\u001b[43mkeep_alive\u001b[49m\u001b[38;5;241;43m=\u001b[39;49m\u001b[43mkeep_alive\u001b[49m\u001b[43m,\u001b[49m\n\u001b[0;32m     51\u001b[0m \u001b[43m\u001b[49m\u001b[43m)\u001b[49m\n",
      "File \u001b[1;32m~\\AppData\\Roaming\\Python\\Python312\\site-packages\\selenium\\webdriver\\chromium\\webdriver.py:66\u001b[0m, in \u001b[0;36mChromiumDriver.__init__\u001b[1;34m(self, browser_name, vendor_prefix, options, service, keep_alive)\u001b[0m\n\u001b[0;32m     57\u001b[0m executor \u001b[38;5;241m=\u001b[39m ChromiumRemoteConnection(\n\u001b[0;32m     58\u001b[0m     remote_server_addr\u001b[38;5;241m=\u001b[39m\u001b[38;5;28mself\u001b[39m\u001b[38;5;241m.\u001b[39mservice\u001b[38;5;241m.\u001b[39mservice_url,\n\u001b[0;32m     59\u001b[0m     browser_name\u001b[38;5;241m=\u001b[39mbrowser_name,\n\u001b[1;32m   (...)\u001b[0m\n\u001b[0;32m     62\u001b[0m     ignore_proxy\u001b[38;5;241m=\u001b[39moptions\u001b[38;5;241m.\u001b[39m_ignore_local_proxy,\n\u001b[0;32m     63\u001b[0m )\n\u001b[0;32m     65\u001b[0m \u001b[38;5;28;01mtry\u001b[39;00m:\n\u001b[1;32m---> 66\u001b[0m     \u001b[38;5;28;43msuper\u001b[39;49m\u001b[43m(\u001b[49m\u001b[43m)\u001b[49m\u001b[38;5;241;43m.\u001b[39;49m\u001b[38;5;21;43m__init__\u001b[39;49m\u001b[43m(\u001b[49m\u001b[43mcommand_executor\u001b[49m\u001b[38;5;241;43m=\u001b[39;49m\u001b[43mexecutor\u001b[49m\u001b[43m,\u001b[49m\u001b[43m \u001b[49m\u001b[43moptions\u001b[49m\u001b[38;5;241;43m=\u001b[39;49m\u001b[43moptions\u001b[49m\u001b[43m)\u001b[49m\n\u001b[0;32m     67\u001b[0m \u001b[38;5;28;01mexcept\u001b[39;00m \u001b[38;5;167;01mException\u001b[39;00m:\n\u001b[0;32m     68\u001b[0m     \u001b[38;5;28mself\u001b[39m\u001b[38;5;241m.\u001b[39mquit()\n",
      "File \u001b[1;32m~\\AppData\\Roaming\\Python\\Python312\\site-packages\\selenium\\webdriver\\remote\\webdriver.py:241\u001b[0m, in \u001b[0;36mWebDriver.__init__\u001b[1;34m(self, command_executor, keep_alive, file_detector, options, locator_converter, web_element_cls, client_config)\u001b[0m\n\u001b[0;32m    239\u001b[0m \u001b[38;5;28mself\u001b[39m\u001b[38;5;241m.\u001b[39m_authenticator_id \u001b[38;5;241m=\u001b[39m \u001b[38;5;28;01mNone\u001b[39;00m\n\u001b[0;32m    240\u001b[0m \u001b[38;5;28mself\u001b[39m\u001b[38;5;241m.\u001b[39mstart_client()\n\u001b[1;32m--> 241\u001b[0m \u001b[38;5;28;43mself\u001b[39;49m\u001b[38;5;241;43m.\u001b[39;49m\u001b[43mstart_session\u001b[49m\u001b[43m(\u001b[49m\u001b[43mcapabilities\u001b[49m\u001b[43m)\u001b[49m\n\u001b[0;32m    242\u001b[0m \u001b[38;5;28mself\u001b[39m\u001b[38;5;241m.\u001b[39m_fedcm \u001b[38;5;241m=\u001b[39m FedCM(\u001b[38;5;28mself\u001b[39m)\n\u001b[0;32m    244\u001b[0m \u001b[38;5;28mself\u001b[39m\u001b[38;5;241m.\u001b[39m_websocket_connection \u001b[38;5;241m=\u001b[39m \u001b[38;5;28;01mNone\u001b[39;00m\n",
      "File \u001b[1;32m~\\AppData\\Roaming\\Python\\Python312\\site-packages\\selenium\\webdriver\\remote\\webdriver.py:329\u001b[0m, in \u001b[0;36mWebDriver.start_session\u001b[1;34m(self, capabilities)\u001b[0m\n\u001b[0;32m    322\u001b[0m \u001b[38;5;250m\u001b[39m\u001b[38;5;124;03m\"\"\"Creates a new session with the desired capabilities.\u001b[39;00m\n\u001b[0;32m    323\u001b[0m \n\u001b[0;32m    324\u001b[0m \u001b[38;5;124;03m:Args:\u001b[39;00m\n\u001b[0;32m    325\u001b[0m \u001b[38;5;124;03m - capabilities - a capabilities dict to start the session with.\u001b[39;00m\n\u001b[0;32m    326\u001b[0m \u001b[38;5;124;03m\"\"\"\u001b[39;00m\n\u001b[0;32m    328\u001b[0m caps \u001b[38;5;241m=\u001b[39m _create_caps(capabilities)\n\u001b[1;32m--> 329\u001b[0m response \u001b[38;5;241m=\u001b[39m \u001b[38;5;28;43mself\u001b[39;49m\u001b[38;5;241;43m.\u001b[39;49m\u001b[43mexecute\u001b[49m\u001b[43m(\u001b[49m\u001b[43mCommand\u001b[49m\u001b[38;5;241;43m.\u001b[39;49m\u001b[43mNEW_SESSION\u001b[49m\u001b[43m,\u001b[49m\u001b[43m \u001b[49m\u001b[43mcaps\u001b[49m\u001b[43m)\u001b[49m[\u001b[38;5;124m\"\u001b[39m\u001b[38;5;124mvalue\u001b[39m\u001b[38;5;124m\"\u001b[39m]\n\u001b[0;32m    330\u001b[0m \u001b[38;5;28mself\u001b[39m\u001b[38;5;241m.\u001b[39msession_id \u001b[38;5;241m=\u001b[39m response\u001b[38;5;241m.\u001b[39mget(\u001b[38;5;124m\"\u001b[39m\u001b[38;5;124msessionId\u001b[39m\u001b[38;5;124m\"\u001b[39m)\n\u001b[0;32m    331\u001b[0m \u001b[38;5;28mself\u001b[39m\u001b[38;5;241m.\u001b[39mcaps \u001b[38;5;241m=\u001b[39m response\u001b[38;5;241m.\u001b[39mget(\u001b[38;5;124m\"\u001b[39m\u001b[38;5;124mcapabilities\u001b[39m\u001b[38;5;124m\"\u001b[39m)\n",
      "File \u001b[1;32m~\\AppData\\Roaming\\Python\\Python312\\site-packages\\selenium\\webdriver\\remote\\webdriver.py:384\u001b[0m, in \u001b[0;36mWebDriver.execute\u001b[1;34m(self, driver_command, params)\u001b[0m\n\u001b[0;32m    382\u001b[0m response \u001b[38;5;241m=\u001b[39m \u001b[38;5;28mself\u001b[39m\u001b[38;5;241m.\u001b[39mcommand_executor\u001b[38;5;241m.\u001b[39mexecute(driver_command, params)\n\u001b[0;32m    383\u001b[0m \u001b[38;5;28;01mif\u001b[39;00m response:\n\u001b[1;32m--> 384\u001b[0m     \u001b[38;5;28;43mself\u001b[39;49m\u001b[38;5;241;43m.\u001b[39;49m\u001b[43merror_handler\u001b[49m\u001b[38;5;241;43m.\u001b[39;49m\u001b[43mcheck_response\u001b[49m\u001b[43m(\u001b[49m\u001b[43mresponse\u001b[49m\u001b[43m)\u001b[49m\n\u001b[0;32m    385\u001b[0m     response[\u001b[38;5;124m\"\u001b[39m\u001b[38;5;124mvalue\u001b[39m\u001b[38;5;124m\"\u001b[39m] \u001b[38;5;241m=\u001b[39m \u001b[38;5;28mself\u001b[39m\u001b[38;5;241m.\u001b[39m_unwrap_value(response\u001b[38;5;241m.\u001b[39mget(\u001b[38;5;124m\"\u001b[39m\u001b[38;5;124mvalue\u001b[39m\u001b[38;5;124m\"\u001b[39m, \u001b[38;5;28;01mNone\u001b[39;00m))\n\u001b[0;32m    386\u001b[0m     \u001b[38;5;28;01mreturn\u001b[39;00m response\n",
      "File \u001b[1;32m~\\AppData\\Roaming\\Python\\Python312\\site-packages\\selenium\\webdriver\\remote\\errorhandler.py:232\u001b[0m, in \u001b[0;36mErrorHandler.check_response\u001b[1;34m(self, response)\u001b[0m\n\u001b[0;32m    230\u001b[0m         alert_text \u001b[38;5;241m=\u001b[39m value[\u001b[38;5;124m\"\u001b[39m\u001b[38;5;124malert\u001b[39m\u001b[38;5;124m\"\u001b[39m]\u001b[38;5;241m.\u001b[39mget(\u001b[38;5;124m\"\u001b[39m\u001b[38;5;124mtext\u001b[39m\u001b[38;5;124m\"\u001b[39m)\n\u001b[0;32m    231\u001b[0m     \u001b[38;5;28;01mraise\u001b[39;00m exception_class(message, screen, stacktrace, alert_text)  \u001b[38;5;66;03m# type: ignore[call-arg]  # mypy is not smart enough here\u001b[39;00m\n\u001b[1;32m--> 232\u001b[0m \u001b[38;5;28;01mraise\u001b[39;00m exception_class(message, screen, stacktrace)\n",
      "\u001b[1;31mSessionNotCreatedException\u001b[0m: Message: session not created: This version of ChromeDriver only supports Chrome version 126\nCurrent browser version is 131.0.6778.86 with binary path C:\\Program Files\\Google\\Chrome\\Application\\chrome.exe\nStacktrace:\n\tGetHandleVerifier [0x00007FF76306EEA2+31554]\n\t(No symbol) [0x00007FF762FE7ED9]\n\t(No symbol) [0x00007FF762EA872A]\n\t(No symbol) [0x00007FF762EE6ED2]\n\t(No symbol) [0x00007FF762EE6008]\n\t(No symbol) [0x00007FF762EDFCC8]\n\t(No symbol) [0x00007FF762EDBB3B]\n\t(No symbol) [0x00007FF762F28794]\n\t(No symbol) [0x00007FF762F27DF0]\n\t(No symbol) [0x00007FF762F1CDD3]\n\t(No symbol) [0x00007FF762EEA33B]\n\t(No symbol) [0x00007FF762EEAED1]\n\tGetHandleVerifier [0x00007FF763378B1D+3217341]\n\tGetHandleVerifier [0x00007FF7633C5AE3+3532675]\n\tGetHandleVerifier [0x00007FF7633BB0E0+3489152]\n\tGetHandleVerifier [0x00007FF76311E776+750614]\n\t(No symbol) [0x00007FF762FF375F]\n\t(No symbol) [0x00007FF762FEEB14]\n\t(No symbol) [0x00007FF762FEECA2]\n\t(No symbol) [0x00007FF762FDE16F]\n\tBaseThreadInitThunk [0x00007FFF97567374+20]\n\tRtlUserThreadStart [0x00007FFF9949CC91+33]\n"
     ]
    }
   ],
   "source": [
    "from selenium import webdriver\n",
    "from selenium.webdriver.chrome.service import Service\n",
    "from selenium.webdriver.common.by import By\n",
    "import json\n",
    "import time\n",
    "\n",
    "# Ruta al ChromeDriver (usa barras dobles o barra normal)\n",
    "chromedriver_path = \"E:/Escritorio/INSTALADORES/chromedriver_win32/chromedriver.exe\"\n",
    "\n",
    "# Configurar el servicio para ChromeDriver\n",
    "service = Service(chromedriver_path)\n",
    "\n",
    "# Configurar las opciones del navegador\n",
    "options = webdriver.ChromeOptions()\n",
    "options.add_argument(\"--headless\")  # Opcional: Ejecutar sin interfaz gráfica\n",
    "\n",
    "# Crear la instancia del navegador\n",
    "driver = webdriver.Chrome(service=service, options=options)\n",
    "\n",
    "# URL base\n",
    "base_url = \"https://www.cardmarket.com/es/Magic/Products/Singles?mode=gallery&site={}\"\n",
    "all_links = []\n",
    "\n",
    "try:\n",
    "    for page in range(1, 3):  # Cambiar el rango según las páginas necesarias\n",
    "        url = base_url.format(page)\n",
    "        print(f\"Accediendo a: {url}\")\n",
    "        driver.get(url)\n",
    "\n",
    "        # Esperar que cargue el contenido\n",
    "        time.sleep(2)\n",
    "\n",
    "        # Extraer enlaces de las cartas\n",
    "        links = driver.find_elements(By.CSS_SELECTOR, \"div.col a.product-link\")\n",
    "        for link in links:\n",
    "            all_links.append(link.get_attribute(\"href\"))\n",
    "\n",
    "        print(f\"Página {page}: {len(links)} enlaces extraídos.\")\n",
    "\n",
    "    # Guardar en JSON\n",
    "    output_file = \"card_links.json\"\n",
    "    with open(output_file, \"w\", encoding=\"utf-8\") as file:\n",
    "        json.dump(all_links, file, ensure_ascii=False, indent=4)\n",
    "\n",
    "    print(f\"Extracción completada. {len(all_links)} enlaces guardados en {output_file}.\")\n",
    "finally:\n",
    "    driver.quit()\n",
    "\n"
   ]
  }
 ],
 "metadata": {
  "kernelspec": {
   "display_name": "Python 3",
   "language": "python",
   "name": "python3"
  },
  "language_info": {
   "codemirror_mode": {
    "name": "ipython",
    "version": 3
   },
   "file_extension": ".py",
   "mimetype": "text/x-python",
   "name": "python",
   "nbconvert_exporter": "python",
   "pygments_lexer": "ipython3",
   "version": "3.12.6"
  }
 },
 "nbformat": 4,
 "nbformat_minor": 2
}
